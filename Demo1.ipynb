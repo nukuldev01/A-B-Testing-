{
 "cells": [
  {
   "cell_type": "markdown",
   "metadata": {},
   "source": [
    "DATA AGGREGATION: FILTERING, SORTING, GROUPING"
   ]
  },
  {
   "cell_type": "code",
   "execution_count": 10,
   "metadata": {},
   "outputs": [
    {
     "name": "stdout",
     "output_type": "stream",
     "text": [
      "      Name  Age  Salary  Department\n",
      "0    Nukul   21   20000        Tech\n",
      "1  Linisha   19   60000  Healthcare\n",
      "2    Naman   18   10000        Tech\n",
      "3    Vicky   23   22000   Marketing\n",
      "4  Gaurang   35   25000       Sales\n",
      "5   Akshat   22   16000        Tech\n"
     ]
    }
   ],
   "source": [
    "import pandas as pd \n",
    "\n",
    "# dataframe with sample data:\n",
    "data = pd.DataFrame({'Name': [\"Nukul\", \"Linisha\", \"Naman\", \"Vicky\", \"Gaurang\", \"Akshat\"],\n",
    "'Age': [21, 19, 18, 23, 35, 22],\n",
    "'Salary': [20000, 60000, 10000, 22000, 25000, 16000],\n",
    "'Department': [\"Tech\", \"Healthcare\", \"Tech\", \"Marketing\", \"Sales\", \"Tech\"]})\n",
    "\n",
    "print(data)"
   ]
  },
  {
   "cell_type": "code",
   "execution_count": 4,
   "metadata": {},
   "outputs": [
    {
     "data": {
      "text/html": [
       "<div>\n",
       "<style scoped>\n",
       "    .dataframe tbody tr th:only-of-type {\n",
       "        vertical-align: middle;\n",
       "    }\n",
       "\n",
       "    .dataframe tbody tr th {\n",
       "        vertical-align: top;\n",
       "    }\n",
       "\n",
       "    .dataframe thead th {\n",
       "        text-align: right;\n",
       "    }\n",
       "</style>\n",
       "<table border=\"1\" class=\"dataframe\">\n",
       "  <thead>\n",
       "    <tr style=\"text-align: right;\">\n",
       "      <th></th>\n",
       "      <th>Name</th>\n",
       "      <th>Age</th>\n",
       "      <th>Salary</th>\n",
       "      <th>Department</th>\n",
       "    </tr>\n",
       "  </thead>\n",
       "  <tbody>\n",
       "    <tr>\n",
       "      <th>2</th>\n",
       "      <td>Naman</td>\n",
       "      <td>18</td>\n",
       "      <td>10000</td>\n",
       "      <td>Tech</td>\n",
       "    </tr>\n",
       "    <tr>\n",
       "      <th>5</th>\n",
       "      <td>Akshat</td>\n",
       "      <td>22</td>\n",
       "      <td>16000</td>\n",
       "      <td>Teech</td>\n",
       "    </tr>\n",
       "    <tr>\n",
       "      <th>0</th>\n",
       "      <td>Nukul</td>\n",
       "      <td>21</td>\n",
       "      <td>20000</td>\n",
       "      <td>Tech</td>\n",
       "    </tr>\n",
       "    <tr>\n",
       "      <th>3</th>\n",
       "      <td>Vicky</td>\n",
       "      <td>23</td>\n",
       "      <td>22000</td>\n",
       "      <td>Marketing</td>\n",
       "    </tr>\n",
       "    <tr>\n",
       "      <th>4</th>\n",
       "      <td>Gaurang</td>\n",
       "      <td>35</td>\n",
       "      <td>25000</td>\n",
       "      <td>Sales</td>\n",
       "    </tr>\n",
       "    <tr>\n",
       "      <th>1</th>\n",
       "      <td>Linisha</td>\n",
       "      <td>19</td>\n",
       "      <td>60000</td>\n",
       "      <td>Healthcare</td>\n",
       "    </tr>\n",
       "  </tbody>\n",
       "</table>\n",
       "</div>"
      ],
      "text/plain": [
       "      Name  Age  Salary  Department\n",
       "2    Naman   18   10000        Tech\n",
       "5   Akshat   22   16000       Teech\n",
       "0    Nukul   21   20000        Tech\n",
       "3    Vicky   23   22000   Marketing\n",
       "4  Gaurang   35   25000       Sales\n",
       "1  Linisha   19   60000  Healthcare"
      ]
     },
     "execution_count": 4,
     "metadata": {},
     "output_type": "execute_result"
    }
   ],
   "source": [
    "#  ascending: smallest values at the top and values increasing \n",
    "data.sort_values(by = 'Salary', ascending = True)"
   ]
  },
  {
   "cell_type": "code",
   "execution_count": 6,
   "metadata": {},
   "outputs": [
    {
     "data": {
      "text/html": [
       "<div>\n",
       "<style scoped>\n",
       "    .dataframe tbody tr th:only-of-type {\n",
       "        vertical-align: middle;\n",
       "    }\n",
       "\n",
       "    .dataframe tbody tr th {\n",
       "        vertical-align: top;\n",
       "    }\n",
       "\n",
       "    .dataframe thead th {\n",
       "        text-align: right;\n",
       "    }\n",
       "</style>\n",
       "<table border=\"1\" class=\"dataframe\">\n",
       "  <thead>\n",
       "    <tr style=\"text-align: right;\">\n",
       "      <th></th>\n",
       "      <th>Name</th>\n",
       "      <th>Age</th>\n",
       "      <th>Salary</th>\n",
       "      <th>Department</th>\n",
       "    </tr>\n",
       "  </thead>\n",
       "  <tbody>\n",
       "    <tr>\n",
       "      <th>1</th>\n",
       "      <td>Linisha</td>\n",
       "      <td>19</td>\n",
       "      <td>60000</td>\n",
       "      <td>Healthcare</td>\n",
       "    </tr>\n",
       "    <tr>\n",
       "      <th>4</th>\n",
       "      <td>Gaurang</td>\n",
       "      <td>35</td>\n",
       "      <td>25000</td>\n",
       "      <td>Sales</td>\n",
       "    </tr>\n",
       "    <tr>\n",
       "      <th>3</th>\n",
       "      <td>Vicky</td>\n",
       "      <td>23</td>\n",
       "      <td>22000</td>\n",
       "      <td>Marketing</td>\n",
       "    </tr>\n",
       "    <tr>\n",
       "      <th>0</th>\n",
       "      <td>Nukul</td>\n",
       "      <td>21</td>\n",
       "      <td>20000</td>\n",
       "      <td>Tech</td>\n",
       "    </tr>\n",
       "    <tr>\n",
       "      <th>5</th>\n",
       "      <td>Akshat</td>\n",
       "      <td>22</td>\n",
       "      <td>16000</td>\n",
       "      <td>Teech</td>\n",
       "    </tr>\n",
       "    <tr>\n",
       "      <th>2</th>\n",
       "      <td>Naman</td>\n",
       "      <td>18</td>\n",
       "      <td>10000</td>\n",
       "      <td>Tech</td>\n",
       "    </tr>\n",
       "  </tbody>\n",
       "</table>\n",
       "</div>"
      ],
      "text/plain": [
       "      Name  Age  Salary  Department\n",
       "1  Linisha   19   60000  Healthcare\n",
       "4  Gaurang   35   25000       Sales\n",
       "3    Vicky   23   22000   Marketing\n",
       "0    Nukul   21   20000        Tech\n",
       "5   Akshat   22   16000       Teech\n",
       "2    Naman   18   10000        Tech"
      ]
     },
     "execution_count": 6,
     "metadata": {},
     "output_type": "execute_result"
    }
   ],
   "source": [
    "data .sort_values(by = 'Salary', ascending = False)"
   ]
  },
  {
   "cell_type": "code",
   "execution_count": 12,
   "metadata": {},
   "outputs": [
    {
     "name": "stdout",
     "output_type": "stream",
     "text": [
      "            Name  Age  Salary\n",
      "Department                   \n",
      "Healthcare     1    1       1\n",
      "Marketing      1    1       1\n",
      "Sales          1    1       1\n",
      "Tech           3    3       3\n"
     ]
    }
   ],
   "source": [
    "# grouping\n",
    "print(data.groupby(\"Department\").count())"
   ]
  },
  {
   "cell_type": "code",
   "execution_count": 13,
   "metadata": {},
   "outputs": [
    {
     "name": "stdout",
     "output_type": "stream",
     "text": [
      "Department\n",
      "Healthcare    60000.000000\n",
      "Marketing     22000.000000\n",
      "Sales         25000.000000\n",
      "Tech          15333.333333\n",
      "Name: Salary, dtype: float64\n"
     ]
    }
   ],
   "source": [
    "print(data.groupby(\"Department\")[\"Salary\"].mean())"
   ]
  },
  {
   "cell_type": "code",
   "execution_count": 18,
   "metadata": {},
   "outputs": [
    {
     "name": "stdout",
     "output_type": "stream",
     "text": [
      "Department\n",
      "Healthcare    60000\n",
      "Marketing     22000\n",
      "Sales         25000\n",
      "Tech          10000\n",
      "Name: Salary, dtype: int64\n",
      "Department\n",
      "Healthcare    60000\n",
      "Marketing     22000\n",
      "Sales         25000\n",
      "Tech          20000\n",
      "Name: Salary, dtype: int64\n",
      "Department\n",
      "Healthcare    19\n",
      "Marketing     23\n",
      "Sales         35\n",
      "Tech          22\n",
      "Name: Age, dtype: int64\n",
      "Department\n",
      "Healthcare    19\n",
      "Marketing     23\n",
      "Sales         35\n",
      "Tech          18\n",
      "Name: Age, dtype: int64\n"
     ]
    }
   ],
   "source": [
    "print(data.groupby(\"Department\")[\"Salary\"].min())\n",
    "print(data.groupby(\"Department\")[\"Salary\"].max())\n",
    "print(data.groupby(\"Department\")[\"Age\"].max())\n",
    "print(data.groupby(\"Department\")[\"Age\"].min())"
   ]
  },
  {
   "cell_type": "code",
   "execution_count": 19,
   "metadata": {},
   "outputs": [
    {
     "name": "stdout",
     "output_type": "stream",
     "text": [
      "      Name  Age  Salary Department\n",
      "0    Nukul   21   20000       Tech\n",
      "3    Vicky   23   22000  Marketing\n",
      "4  Gaurang   35   25000      Sales\n",
      "5   Akshat   22   16000       Tech\n"
     ]
    }
   ],
   "source": [
    "# filtering\n",
    "print(data[(data[\"Salary\"] > 10000) & (data[\"Salary\"]< 60000)])"
   ]
  },
  {
   "cell_type": "code",
   "execution_count": 23,
   "metadata": {},
   "outputs": [
    {
     "name": "stdout",
     "output_type": "stream",
     "text": [
      "      Name  Age  Salary  Department\n",
      "1  Linisha   19   60000  Healthcare\n",
      "4  Gaurang   35   25000       Sales\n"
     ]
    }
   ],
   "source": [
    "print(data[data[\"Age\"].isin([19,35])])"
   ]
  },
  {
   "cell_type": "code",
   "execution_count": null,
   "metadata": {},
   "outputs": [],
   "source": []
  }
 ],
 "metadata": {
  "kernelspec": {
   "display_name": "Python 3",
   "language": "python",
   "name": "python3"
  },
  "language_info": {
   "codemirror_mode": {
    "name": "ipython",
    "version": 3
   },
   "file_extension": ".py",
   "mimetype": "text/x-python",
   "name": "python",
   "nbconvert_exporter": "python",
   "pygments_lexer": "ipython3",
   "version": "3.12.4"
  }
 },
 "nbformat": 4,
 "nbformat_minor": 2
}
