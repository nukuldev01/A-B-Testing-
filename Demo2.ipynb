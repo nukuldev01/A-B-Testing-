{
 "cells": [
  {
   "cell_type": "markdown",
   "metadata": {},
   "source": [
    "Data Merging"
   ]
  },
  {
   "cell_type": "code",
   "execution_count": 5,
   "metadata": {},
   "outputs": [
    {
     "name": "stdout",
     "output_type": "stream",
     "text": [
      "  Key  value1\n",
      "0   A       1\n",
      "1   B       2\n",
      "2   C       3\n",
      "3   D       4\n",
      "4   E       5\n",
      "5   F       6\n",
      "  Key  value2\n",
      "0   C       8\n",
      "1   D       9\n",
      "2   E      10\n",
      "3   F      11\n",
      "4   G      12\n",
      "5   H      13\n"
     ]
    }
   ],
   "source": [
    "import pandas as pd \n",
    "# creating 2 dataframes\n",
    "data1 = pd.DataFrame({'Key': ['A','B','C','D','E','F'],\n",
    "                       'value1': [1,2,3,4,5,6]})\n",
    "data2 = pd.DataFrame({'Key': ['C','D','E','F','G','H'],\n",
    "                       'value2': [8,9,10,11,12,13]})\n",
    "\n",
    "print(data1)\n",
    "print(data2)"
   ]
  },
  {
   "cell_type": "code",
   "execution_count": 7,
   "metadata": {},
   "outputs": [
    {
     "name": "stdout",
     "output_type": "stream",
     "text": [
      "  Key  value1  value2\n",
      "0   C       3       8\n",
      "1   D       4       9\n",
      "2   E       5      10\n",
      "3   F       6      11\n"
     ]
    }
   ],
   "source": [
    "# inner join \n",
    "merge_innerjoin = pd.merge(data1, data2, on= 'Key', how = 'inner')\n",
    "print(merge_innerjoin)"
   ]
  },
  {
   "cell_type": "code",
   "execution_count": 9,
   "metadata": {},
   "outputs": [
    {
     "name": "stdout",
     "output_type": "stream",
     "text": [
      "  Key  value1  value2\n",
      "0   A       1     NaN\n",
      "1   B       2     NaN\n",
      "2   C       3     8.0\n",
      "3   D       4     9.0\n",
      "4   E       5    10.0\n",
      "5   F       6    11.0\n"
     ]
    }
   ],
   "source": [
    "# left join \n",
    "merge_leftjoin = pd.merge(data1,data2, on= 'Key', how = 'left')\n",
    "print(merge_leftjoin)"
   ]
  },
  {
   "cell_type": "code",
   "execution_count": 10,
   "metadata": {},
   "outputs": [
    {
     "name": "stdout",
     "output_type": "stream",
     "text": [
      "  Key  value1  value2\n",
      "0   C     3.0       8\n",
      "1   D     4.0       9\n",
      "2   E     5.0      10\n",
      "3   F     6.0      11\n",
      "4   G     NaN      12\n",
      "5   H     NaN      13\n"
     ]
    }
   ],
   "source": [
    "# right join \n",
    "merge_rightjoin = pd.merge(data1, data2, on = 'Key', how= 'right')\n",
    "print(merge_rightjoin)"
   ]
  },
  {
   "cell_type": "code",
   "execution_count": 22,
   "metadata": {},
   "outputs": [
    {
     "name": "stdout",
     "output_type": "stream",
     "text": [
      "  Key  value1  value2\n",
      "0   A       1     NaN\n",
      "1   B       2     NaN\n"
     ]
    }
   ],
   "source": [
    "# left anti join \n",
    "merge_left = pd.merge(data1, data2, on= 'Key', how = 'left', indicator= True) \n",
    "# print(merge_left)\n",
    "\n",
    "merge_leftAntiJoin = merge_left[merge_left[\"_merge\"] == 'left_only']\n",
    "# print(merge_leftAntiJoin)\n",
    "\n",
    "merge_leftAntiJoin = merge_leftAntiJoin.drop('_merge' , axis=1)\n",
    "print(merge_leftAntiJoin)"
   ]
  },
  {
   "cell_type": "code",
   "execution_count": 23,
   "metadata": {},
   "outputs": [
    {
     "name": "stdout",
     "output_type": "stream",
     "text": [
      "  Key  value1  value2\n",
      "4   G     NaN      12\n",
      "5   H     NaN      13\n"
     ]
    }
   ],
   "source": [
    "# right anti join\n",
    "merge_right = pd.merge(data1,data2, on= 'Key', how= 'right', indicator=True)\n",
    "# print(merge_right)\n",
    "\n",
    "merge_rightAntiJoin = merge_right[merge_right[\"_merge\"] == 'right_only']\n",
    "# print(merge_rightAntiJoin)\n",
    "\n",
    "merge_rightAntiJoin = merge_rightAntiJoin.drop('_merge' , axis=1)\n",
    "print(merge_rightAntiJoin)"
   ]
  }
 ],
 "metadata": {
  "kernelspec": {
   "display_name": "Python 3",
   "language": "python",
   "name": "python3"
  },
  "language_info": {
   "codemirror_mode": {
    "name": "ipython",
    "version": 3
   },
   "file_extension": ".py",
   "mimetype": "text/x-python",
   "name": "python",
   "nbconvert_exporter": "python",
   "pygments_lexer": "ipython3",
   "version": "3.12.4"
  }
 },
 "nbformat": 4,
 "nbformat_minor": 2
}
